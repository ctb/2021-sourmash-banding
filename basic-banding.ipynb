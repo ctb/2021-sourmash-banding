{
 "cells": [
  {
   "cell_type": "code",
   "execution_count": 11,
   "metadata": {},
   "outputs": [],
   "source": [
    "import sourmash\n",
    "from sourmash import minhash"
   ]
  },
  {
   "cell_type": "code",
   "execution_count": 12,
   "metadata": {},
   "outputs": [
    {
     "name": "stdout",
     "output_type": "stream",
     "text": [
      "GCF_000005845.2_ASM584v2_genomic.fna.gz.sig\r\n",
      "GCF_000006945.1_ASM694v1_genomic.fna.gz.sig\r\n",
      "GCF_000783305.1_ASM78330v1_genomic.fna.gz.sig\r\n"
     ]
    }
   ],
   "source": [
    "ls sigs/"
   ]
  },
  {
   "cell_type": "code",
   "execution_count": 51,
   "metadata": {},
   "outputs": [],
   "source": [
    "ss = sourmash.load_one_signature('sigs/GCF_000005845.2_ASM584v2_genomic.fna.gz.sig')\n",
    "mh1 = ss.minhash\n",
    "\n",
    "ss = sourmash.load_one_signature('sigs/GCF_000006945.1_ASM694v1_genomic.fna.gz.sig')\n",
    "mh2 = ss.minhash"
   ]
  },
  {
   "cell_type": "code",
   "execution_count": 55,
   "metadata": {},
   "outputs": [
    {
     "name": "stdout",
     "output_type": "stream",
     "text": [
      "4476 1000\n",
      "4900 1000\n"
     ]
    }
   ],
   "source": [
    "print(len(mh1), mh1.scaled)\n",
    "print(len(mh2), mh2.scaled)"
   ]
  },
  {
   "cell_type": "code",
   "execution_count": 52,
   "metadata": {},
   "outputs": [
    {
     "data": {
      "text/plain": [
       "0.008497364741314403"
      ]
     },
     "execution_count": 52,
     "metadata": {},
     "output_type": "execute_result"
    }
   ],
   "source": [
    "mh1.similarity(mh2)"
   ]
  },
  {
   "cell_type": "code",
   "execution_count": 37,
   "metadata": {},
   "outputs": [
    {
     "name": "stdout",
     "output_type": "stream",
     "text": [
      "0 0 1844674407370955 1844674407370955\n",
      "1 1844674407370955 3689348814741910 1844674407370955\n",
      "2 3689348814741910 5534023222112865 1844674407370955\n",
      "3 5534023222112865 7378697629483820 1844674407370955\n",
      "4 7378697629483820 9223372036854775 1844674407370955\n",
      "5 9223372036854775 11068046444225730 1844674407370955\n",
      "6 11068046444225730 12912720851596685 1844674407370955\n",
      "7 12912720851596685 14757395258967640 1844674407370955\n",
      "8 14757395258967640 16602069666338595 1844674407370955\n",
      "9 16602069666338595 18446744073709550 1844674407370955\n"
     ]
    }
   ],
   "source": [
    "# full range size == 1/1k\n",
    "max_hash_1k = minhash._get_max_hash_for_scaled(1000) \n",
    "\n",
    "# band size = 1/10k\n",
    "max_hash_10k = minhash._get_max_hash_for_scaled(10000) \n",
    "\n",
    "ivals = []\n",
    "\n",
    "last_i = 0\n",
    "for n, i in enumerate(range(max_hash_10k, max_hash_1k + 1, max_hash_10k)):\n",
    "    ivals.append((last_i, i, mh1.copy_and_clear()))\n",
    "    print(n, last_i, i, i - last_i)\n",
    "    last_i = i"
   ]
  },
  {
   "cell_type": "code",
   "execution_count": 38,
   "metadata": {},
   "outputs": [],
   "source": [
    "for hashval in mh1.hashes:\n",
    "    for (start, end, band_mh) in ivals:\n",
    "        if hashval >= start and hashval < end:\n",
    "            band_mh.add_hash(hashval)\n",
    "            break"
   ]
  },
  {
   "cell_type": "code",
   "execution_count": 48,
   "metadata": {},
   "outputs": [],
   "source": [
    "def intersection(mh, ivals):\n",
    "    result = mh.copy_and_clear()\n",
    "    for (_, _, band_mh) in ivals:\n",
    "        result += mh.intersection(band_mh)\n",
    "    return result\n",
    "\n",
    "def union(mh, ivals):\n",
    "    result = mh.copy_and_clear()\n",
    "    for (_, _, band_mh) in ivals:\n",
    "        result += mh | band_mh\n",
    "    return result"
   ]
  },
  {
   "cell_type": "code",
   "execution_count": 63,
   "metadata": {},
   "outputs": [
    {
     "name": "stdout",
     "output_type": "stream",
     "text": [
      "79 79 1.0\n"
     ]
    },
    {
     "data": {
      "text/plain": [
       "(0.017649687220732797, 0.008497364741314403)"
      ]
     },
     "execution_count": 63,
     "metadata": {},
     "output_type": "execute_result"
    }
   ],
   "source": [
    "r = intersection(mh2, ivals)\n",
    "r2 = mh2 & mh1\n",
    "print(len(r), len(r2), r.similarity(r2))\n",
    "assert r == r2\n",
    "r.similarity(mh1), mh1.similarity(mh2)"
   ]
  },
  {
   "cell_type": "code",
   "execution_count": 62,
   "metadata": {},
   "outputs": [
    {
     "name": "stdout",
     "output_type": "stream",
     "text": [
      "9297 9297 1.0\n"
     ]
    },
    {
     "data": {
      "text/plain": [
       "(0.4814456276218135, 0.008497364741314403)"
      ]
     },
     "execution_count": 62,
     "metadata": {},
     "output_type": "execute_result"
    }
   ],
   "source": [
    "r = union(mh2, ivals)\n",
    "r2 = mh2 | mh1\n",
    "print(len(r), len(r2), r.similarity(r2))\n",
    "assert r == r2\n",
    "#r.similarity(mh1)\n",
    "r.similarity(mh1), mh1.similarity(mh2)"
   ]
  },
  {
   "cell_type": "code",
   "execution_count": null,
   "metadata": {},
   "outputs": [],
   "source": []
  }
 ],
 "metadata": {
  "kernelspec": {
   "display_name": "Python (myenv)",
   "language": "python",
   "name": "myenv"
  },
  "language_info": {
   "codemirror_mode": {
    "name": "ipython",
    "version": 3
   },
   "file_extension": ".py",
   "mimetype": "text/x-python",
   "name": "python",
   "nbconvert_exporter": "python",
   "pygments_lexer": "ipython3",
   "version": "3.7.6"
  }
 },
 "nbformat": 4,
 "nbformat_minor": 4
}
