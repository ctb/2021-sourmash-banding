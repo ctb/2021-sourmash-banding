{
 "cells": [
  {
   "cell_type": "markdown",
   "metadata": {},
   "source": [
    "# Banded Scaled Hashes\n",
    "\n",
    "This is an initial exploration of \"banded\" scaled hash objects, which for a given `scaled` value and number of bands, divides the scaled hash space further into that number of bands.\n",
    "\n",
    "This is a way of partitioning k-mer space which has some interesting consequences - warning, naive thoughts ahead :)\n",
    "\n",
    "* band-by-band comparisons are individually smaller\n",
    "* downsampling can simply ignore most of the bands\n",
    "* overlap calculations can be truncated if the sum of the bands so far is larger than the threshold\n",
    "* it's possible to parallelize comparisons of banded scaled hash objects by the number of bands\n",
    "* there's a lot of interesting ways to make SBT/LCA databases smaller or more parallel"
   ]
  },
  {
   "cell_type": "code",
   "execution_count": 1,
   "metadata": {},
   "outputs": [],
   "source": [
    "import sourmash\n",
    "from sourmash import minhash"
   ]
  },
  {
   "cell_type": "code",
   "execution_count": 2,
   "metadata": {},
   "outputs": [
    {
     "name": "stdout",
     "output_type": "stream",
     "text": [
      "GCF_000005845.2_ASM584v2_genomic.fna.gz.sig\r\n",
      "GCF_000006945.1_ASM694v1_genomic.fna.gz.sig\r\n",
      "GCF_000783305.1_ASM78330v1_genomic.fna.gz.sig\r\n"
     ]
    }
   ],
   "source": [
    "ls sigs/"
   ]
  },
  {
   "cell_type": "code",
   "execution_count": 3,
   "metadata": {},
   "outputs": [],
   "source": [
    "ss = sourmash.load_one_signature('sigs/GCF_000005845.2_ASM584v2_genomic.fna.gz.sig')\n",
    "mh1 = ss.minhash\n",
    "\n",
    "ss = sourmash.load_one_signature('sigs/GCF_000006945.1_ASM694v1_genomic.fna.gz.sig')\n",
    "mh2 = ss.minhash"
   ]
  },
  {
   "cell_type": "code",
   "execution_count": 4,
   "metadata": {},
   "outputs": [
    {
     "name": "stdout",
     "output_type": "stream",
     "text": [
      "4476 1000\n",
      "4900 1000\n"
     ]
    }
   ],
   "source": [
    "print(len(mh1), mh1.scaled)\n",
    "print(len(mh2), mh2.scaled)"
   ]
  },
  {
   "cell_type": "code",
   "execution_count": 5,
   "metadata": {},
   "outputs": [],
   "source": [
    "class BandedScaledMinHash:\n",
    "    \"Split a Scaled MinHash object into num_bands bands of hash space.\"\n",
    "    def __init__(self, ksize, scaled, num_bands):\n",
    "        self.max_hash = minhash._get_max_hash_for_scaled(scaled)\n",
    "        self.band_size = minhash._get_max_hash_for_scaled(scaled * num_bands)\n",
    "        self.empty_mh = minhash.MinHash(0, ksize, scaled=scaled)\n",
    "        \n",
    "        # subdivide the 'scaled' space into num_bands intervals.\n",
    "        ivals = []\n",
    "        last_start = 0\n",
    "        for start in range(self.band_size, self.max_hash, self.band_size):\n",
    "            ivals.append((last_start, start, self.empty_mh.copy()))\n",
    "            last_start = start\n",
    "        ivals.append((last_start, self.max_hash, self.empty_mh.copy()))\n",
    "\n",
    "        self.ivals = ivals\n",
    "        \n",
    "    @classmethod\n",
    "    def from_mh(cls, other_mh, num_bands):\n",
    "        assert isinstance(other_mh, minhash.MinHash)\n",
    "        obj = cls(other_mh.ksize, other_mh.scaled, num_bands)\n",
    "        \n",
    "        for hashval in other_mh.hashes:\n",
    "            for (start, stop, band_mh) in obj.ivals:\n",
    "                if hashval >= start and hashval < stop:\n",
    "                    band_mh.add_hash(hashval)\n",
    "                    break\n",
    "                    \n",
    "        return obj\n",
    "\n",
    "    def intersection(self, other_mh):\n",
    "        if isinstance(other_mh, BandedScaledMinHash):\n",
    "            assert other_mh.max_hash == self.max_hash\n",
    "            assert other_mh.band_size == self.band_size\n",
    "            \n",
    "            result = self.empty_mh.copy()\n",
    "            \n",
    "            for n in range(len(self.ivals)):\n",
    "                result += self.ivals[n][2] & other_mh.ivals[n][2]\n",
    "            return result\n",
    "        elif isinstance(other_mh, minhash.MinHash):\n",
    "            assert other_mh._max_hash == self.max_hash\n",
    "            result = other_mh.copy_and_clear()\n",
    "\n",
    "            for (_, _, band_mh) in self.ivals:\n",
    "                result |= other_mh & band_mh\n",
    "            return result\n",
    "        assert 0\n",
    "    __and__ = intersection\n",
    "\n",
    "    def union(self, other_mh):\n",
    "        if isinstance(other_mh, BandedScaledMinHash):\n",
    "            assert other_mh.max_hash == self.max_hash\n",
    "            assert other_mh.band_size == self.band_size\n",
    "            \n",
    "            result = self.empty_mh.copy()\n",
    "            \n",
    "            for n in range(len(self.ivals)):\n",
    "                result += self.ivals[n][2] | other_mh.ivals[n][2]\n",
    "            return result\n",
    "        elif isinstance(other_mh, minhash.MinHash):\n",
    "            assert other_mh._max_hash == self.max_hash\n",
    "            result = other_mh.copy_and_clear()\n",
    "\n",
    "            for (_, _, band_mh) in self.ivals:\n",
    "                result |= other_mh | band_mh\n",
    "            return result\n",
    "        assert 0\n",
    "    __or__ = union\n",
    "    \n",
    "    def __len__(self):\n",
    "        return sum([ len(x) for (_, _, x) in self.ivals ])\n",
    "    \n",
    "    def similarity(self, other):\n",
    "        return len(self & other) / len(self | other)\n",
    "    \n",
    "    def contained_by(self, other):\n",
    "        return len(self & other) / len(self)\n",
    "    \n",
    "    def max_containment(self, other):\n",
    "        numerator = len(self & other)\n",
    "        denom1 = len(self)\n",
    "        denom2 = len(other)\n",
    "        return numerator / min(denom1, denom2)"
   ]
  },
  {
   "cell_type": "code",
   "execution_count": 6,
   "metadata": {},
   "outputs": [],
   "source": [
    "bh1 = BandedScaledMinHash.from_mh(mh1, 10)\n",
    "bh2 = BandedScaledMinHash.from_mh(mh2, 10)"
   ]
  },
  {
   "cell_type": "code",
   "execution_count": 7,
   "metadata": {},
   "outputs": [],
   "source": [
    "assert bh1 & bh2  == mh1 & mh2\n",
    "assert bh1 & mh2 == mh1 & mh2\n",
    "\n",
    "assert bh1 | bh2  == mh1 | mh2\n",
    "assert bh1 | mh2 == mh1 | mh2"
   ]
  },
  {
   "cell_type": "code",
   "execution_count": 8,
   "metadata": {},
   "outputs": [],
   "source": [
    "assert bh1.similarity(bh2) == mh1.similarity(mh2)\n",
    "assert bh1.similarity(mh2) == mh1.similarity(mh2)"
   ]
  },
  {
   "cell_type": "code",
   "execution_count": 9,
   "metadata": {},
   "outputs": [],
   "source": [
    "assert bh1.contained_by(bh2) == mh1.contained_by(mh2)\n",
    "assert bh1.contained_by(mh2) == mh1.contained_by(mh2)\n",
    "\n",
    "assert bh2.contained_by(bh1) == mh2.contained_by(mh1)\n",
    "assert bh2.contained_by(mh1) == mh2.contained_by(mh1)"
   ]
  },
  {
   "cell_type": "code",
   "execution_count": 10,
   "metadata": {},
   "outputs": [],
   "source": [
    "assert bh1.max_containment(bh2) == mh1.max_containment(mh2)\n",
    "assert bh1.max_containment(mh2) == mh1.max_containment(mh2)"
   ]
  },
  {
   "cell_type": "code",
   "execution_count": null,
   "metadata": {},
   "outputs": [],
   "source": []
  }
 ],
 "metadata": {
  "kernelspec": {
   "display_name": "Python (myenv)",
   "language": "python",
   "name": "myenv"
  },
  "language_info": {
   "codemirror_mode": {
    "name": "ipython",
    "version": 3
   },
   "file_extension": ".py",
   "mimetype": "text/x-python",
   "name": "python",
   "nbconvert_exporter": "python",
   "pygments_lexer": "ipython3",
   "version": "3.7.6"
  }
 },
 "nbformat": 4,
 "nbformat_minor": 4
}
